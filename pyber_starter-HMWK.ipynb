{
 "cells": [
  {
   "cell_type": "code",
   "execution_count": 1,
   "metadata": {},
   "outputs": [],
   "source": [
    "%matplotlib inline\n",
    "# Dependencies and Setup\n",
    "import pandas as pd\n",
    "import matplotlib.pyplot as plt"
   ]
  },
  {
   "cell_type": "code",
   "execution_count": 2,
   "metadata": {
    "scrolled": true
   },
   "outputs": [
    {
     "data": {
      "text/html": [
       "<div>\n",
       "<style scoped>\n",
       "    .dataframe tbody tr th:only-of-type {\n",
       "        vertical-align: middle;\n",
       "    }\n",
       "\n",
       "    .dataframe tbody tr th {\n",
       "        vertical-align: top;\n",
       "    }\n",
       "\n",
       "    .dataframe thead th {\n",
       "        text-align: right;\n",
       "    }\n",
       "</style>\n",
       "<table border=\"1\" class=\"dataframe\">\n",
       "  <thead>\n",
       "    <tr style=\"text-align: right;\">\n",
       "      <th></th>\n",
       "      <th>city</th>\n",
       "      <th>driver_count</th>\n",
       "      <th>type</th>\n",
       "    </tr>\n",
       "  </thead>\n",
       "  <tbody>\n",
       "    <tr>\n",
       "      <th>0</th>\n",
       "      <td>Richardfort</td>\n",
       "      <td>38</td>\n",
       "      <td>Urban</td>\n",
       "    </tr>\n",
       "    <tr>\n",
       "      <th>1</th>\n",
       "      <td>Williamsstad</td>\n",
       "      <td>59</td>\n",
       "      <td>Urban</td>\n",
       "    </tr>\n",
       "    <tr>\n",
       "      <th>2</th>\n",
       "      <td>Port Angela</td>\n",
       "      <td>67</td>\n",
       "      <td>Urban</td>\n",
       "    </tr>\n",
       "    <tr>\n",
       "      <th>3</th>\n",
       "      <td>Rodneyfort</td>\n",
       "      <td>34</td>\n",
       "      <td>Urban</td>\n",
       "    </tr>\n",
       "    <tr>\n",
       "      <th>4</th>\n",
       "      <td>West Robert</td>\n",
       "      <td>39</td>\n",
       "      <td>Urban</td>\n",
       "    </tr>\n",
       "  </tbody>\n",
       "</table>\n",
       "</div>"
      ],
      "text/plain": [
       "           city  driver_count   type\n",
       "0   Richardfort            38  Urban\n",
       "1  Williamsstad            59  Urban\n",
       "2   Port Angela            67  Urban\n",
       "3    Rodneyfort            34  Urban\n",
       "4   West Robert            39  Urban"
      ]
     },
     "execution_count": 2,
     "metadata": {},
     "output_type": "execute_result"
    }
   ],
   "source": [
    "# Read the csv files into pandas as dataframes\n",
    "data_file = \"data/city_data.csv\"\n",
    "city_df = pd.read_csv(data_file)\n",
    "data_file2 = \"data/ride_data.csv\"\n",
    "ride_df = pd.read_csv(data_file2)\n",
    "city_df.head()"
   ]
  },
  {
   "cell_type": "code",
   "execution_count": 3,
   "metadata": {},
   "outputs": [
    {
     "data": {
      "text/html": [
       "<div>\n",
       "<style scoped>\n",
       "    .dataframe tbody tr th:only-of-type {\n",
       "        vertical-align: middle;\n",
       "    }\n",
       "\n",
       "    .dataframe tbody tr th {\n",
       "        vertical-align: top;\n",
       "    }\n",
       "\n",
       "    .dataframe thead th {\n",
       "        text-align: right;\n",
       "    }\n",
       "</style>\n",
       "<table border=\"1\" class=\"dataframe\">\n",
       "  <thead>\n",
       "    <tr style=\"text-align: right;\">\n",
       "      <th></th>\n",
       "      <th>city</th>\n",
       "      <th>date</th>\n",
       "      <th>fare</th>\n",
       "      <th>ride_id</th>\n",
       "    </tr>\n",
       "  </thead>\n",
       "  <tbody>\n",
       "    <tr>\n",
       "      <th>0</th>\n",
       "      <td>Lake Jonathanshire</td>\n",
       "      <td>2018-01-14 10:14:22</td>\n",
       "      <td>13.83</td>\n",
       "      <td>5739410935873</td>\n",
       "    </tr>\n",
       "    <tr>\n",
       "      <th>1</th>\n",
       "      <td>South Michelleport</td>\n",
       "      <td>2018-03-04 18:24:09</td>\n",
       "      <td>30.24</td>\n",
       "      <td>2343912425577</td>\n",
       "    </tr>\n",
       "    <tr>\n",
       "      <th>2</th>\n",
       "      <td>Port Samanthamouth</td>\n",
       "      <td>2018-02-24 04:29:00</td>\n",
       "      <td>33.44</td>\n",
       "      <td>2005065760003</td>\n",
       "    </tr>\n",
       "    <tr>\n",
       "      <th>3</th>\n",
       "      <td>Rodneyfort</td>\n",
       "      <td>2018-02-10 23:22:03</td>\n",
       "      <td>23.44</td>\n",
       "      <td>5149245426178</td>\n",
       "    </tr>\n",
       "    <tr>\n",
       "      <th>4</th>\n",
       "      <td>South Jack</td>\n",
       "      <td>2018-03-06 04:28:35</td>\n",
       "      <td>34.58</td>\n",
       "      <td>3908451377344</td>\n",
       "    </tr>\n",
       "  </tbody>\n",
       "</table>\n",
       "</div>"
      ],
      "text/plain": [
       "                 city                 date   fare        ride_id\n",
       "0  Lake Jonathanshire  2018-01-14 10:14:22  13.83  5739410935873\n",
       "1  South Michelleport  2018-03-04 18:24:09  30.24  2343912425577\n",
       "2  Port Samanthamouth  2018-02-24 04:29:00  33.44  2005065760003\n",
       "3          Rodneyfort  2018-02-10 23:22:03  23.44  5149245426178\n",
       "4          South Jack  2018-03-06 04:28:35  34.58  3908451377344"
      ]
     },
     "execution_count": 3,
     "metadata": {},
     "output_type": "execute_result"
    }
   ],
   "source": [
    "ride_df.head()"
   ]
  },
  {
   "cell_type": "code",
   "execution_count": 4,
   "metadata": {},
   "outputs": [
    {
     "data": {
      "text/html": [
       "<div>\n",
       "<style scoped>\n",
       "    .dataframe tbody tr th:only-of-type {\n",
       "        vertical-align: middle;\n",
       "    }\n",
       "\n",
       "    .dataframe tbody tr th {\n",
       "        vertical-align: top;\n",
       "    }\n",
       "\n",
       "    .dataframe thead th {\n",
       "        text-align: right;\n",
       "    }\n",
       "</style>\n",
       "<table border=\"1\" class=\"dataframe\">\n",
       "  <thead>\n",
       "    <tr style=\"text-align: right;\">\n",
       "      <th></th>\n",
       "      <th>city</th>\n",
       "      <th>driver_count</th>\n",
       "      <th>type</th>\n",
       "      <th>date</th>\n",
       "      <th>fare</th>\n",
       "      <th>ride_id</th>\n",
       "    </tr>\n",
       "  </thead>\n",
       "  <tbody>\n",
       "    <tr>\n",
       "      <th>1523</th>\n",
       "      <td>Amandaburgh</td>\n",
       "      <td>12</td>\n",
       "      <td>Urban</td>\n",
       "      <td>2018-01-11 02:22:07</td>\n",
       "      <td>29.24</td>\n",
       "      <td>7279902884763</td>\n",
       "    </tr>\n",
       "    <tr>\n",
       "      <th>1522</th>\n",
       "      <td>Amandaburgh</td>\n",
       "      <td>12</td>\n",
       "      <td>Urban</td>\n",
       "      <td>2018-02-10 20:42:46</td>\n",
       "      <td>36.17</td>\n",
       "      <td>6455620849753</td>\n",
       "    </tr>\n",
       "    <tr>\n",
       "      <th>1529</th>\n",
       "      <td>Amandaburgh</td>\n",
       "      <td>12</td>\n",
       "      <td>Urban</td>\n",
       "      <td>2018-03-13 12:52:31</td>\n",
       "      <td>13.88</td>\n",
       "      <td>6222134922674</td>\n",
       "    </tr>\n",
       "    <tr>\n",
       "      <th>1524</th>\n",
       "      <td>Amandaburgh</td>\n",
       "      <td>12</td>\n",
       "      <td>Urban</td>\n",
       "      <td>2018-01-21 04:12:54</td>\n",
       "      <td>9.26</td>\n",
       "      <td>5528427024492</td>\n",
       "    </tr>\n",
       "    <tr>\n",
       "      <th>1525</th>\n",
       "      <td>Amandaburgh</td>\n",
       "      <td>12</td>\n",
       "      <td>Urban</td>\n",
       "      <td>2018-04-19 16:30:12</td>\n",
       "      <td>6.27</td>\n",
       "      <td>4400632718421</td>\n",
       "    </tr>\n",
       "  </tbody>\n",
       "</table>\n",
       "</div>"
      ],
      "text/plain": [
       "             city  driver_count   type                 date   fare  \\\n",
       "1523  Amandaburgh            12  Urban  2018-01-11 02:22:07  29.24   \n",
       "1522  Amandaburgh            12  Urban  2018-02-10 20:42:46  36.17   \n",
       "1529  Amandaburgh            12  Urban  2018-03-13 12:52:31  13.88   \n",
       "1524  Amandaburgh            12  Urban  2018-01-21 04:12:54   9.26   \n",
       "1525  Amandaburgh            12  Urban  2018-04-19 16:30:12   6.27   \n",
       "\n",
       "            ride_id  \n",
       "1523  7279902884763  \n",
       "1522  6455620849753  \n",
       "1529  6222134922674  \n",
       "1524  5528427024492  \n",
       "1525  4400632718421  "
      ]
     },
     "execution_count": 4,
     "metadata": {},
     "output_type": "execute_result"
    }
   ],
   "source": [
    "# Merge dataframes then sort by city\n",
    "merge_df = pd.merge(city_df,ride_df,on=\"city\",how=\"outer\")\n",
    "merge_df = merge_df.sort_values(\"city\")\n",
    "merge_df.head()"
   ]
  },
  {
   "cell_type": "code",
   "execution_count": 5,
   "metadata": {},
   "outputs": [
    {
     "data": {
      "text/html": [
       "<div>\n",
       "<style scoped>\n",
       "    .dataframe tbody tr th:only-of-type {\n",
       "        vertical-align: middle;\n",
       "    }\n",
       "\n",
       "    .dataframe tbody tr th {\n",
       "        vertical-align: top;\n",
       "    }\n",
       "\n",
       "    .dataframe thead th {\n",
       "        text-align: right;\n",
       "    }\n",
       "</style>\n",
       "<table border=\"1\" class=\"dataframe\">\n",
       "  <thead>\n",
       "    <tr style=\"text-align: right;\">\n",
       "      <th></th>\n",
       "      <th>city</th>\n",
       "      <th>driver_count</th>\n",
       "      <th>type</th>\n",
       "    </tr>\n",
       "  </thead>\n",
       "  <tbody>\n",
       "    <tr>\n",
       "      <th>0</th>\n",
       "      <td>Richardfort</td>\n",
       "      <td>38</td>\n",
       "      <td>Urban</td>\n",
       "    </tr>\n",
       "    <tr>\n",
       "      <th>1</th>\n",
       "      <td>Williamsstad</td>\n",
       "      <td>59</td>\n",
       "      <td>Urban</td>\n",
       "    </tr>\n",
       "    <tr>\n",
       "      <th>2</th>\n",
       "      <td>Port Angela</td>\n",
       "      <td>67</td>\n",
       "      <td>Urban</td>\n",
       "    </tr>\n",
       "    <tr>\n",
       "      <th>3</th>\n",
       "      <td>Rodneyfort</td>\n",
       "      <td>34</td>\n",
       "      <td>Urban</td>\n",
       "    </tr>\n",
       "    <tr>\n",
       "      <th>4</th>\n",
       "      <td>West Robert</td>\n",
       "      <td>39</td>\n",
       "      <td>Urban</td>\n",
       "    </tr>\n",
       "  </tbody>\n",
       "</table>\n",
       "</div>"
      ],
      "text/plain": [
       "           city  driver_count   type\n",
       "0   Richardfort            38  Urban\n",
       "1  Williamsstad            59  Urban\n",
       "2   Port Angela            67  Urban\n",
       "3    Rodneyfort            34  Urban\n",
       "4   West Robert            39  Urban"
      ]
     },
     "execution_count": 5,
     "metadata": {},
     "output_type": "execute_result"
    }
   ],
   "source": [
    "# Slice the city_df by Urban city type\n",
    "city_urban = city_df.loc[city_df[\"type\"]==\"Urban\"]\n",
    "city_urban.sort_values(\"city\")\n",
    "# Driver_count per city for urban city type\n",
    "drivers_urban = city_urban[\"driver_count\"].tolist()\n",
    "drivers_urban = [each*5 for each in drivers_urban]\n",
    "city_urban.head()"
   ]
  },
  {
   "cell_type": "code",
   "execution_count": 6,
   "metadata": {},
   "outputs": [
    {
     "data": {
      "text/html": [
       "<div>\n",
       "<style scoped>\n",
       "    .dataframe tbody tr th:only-of-type {\n",
       "        vertical-align: middle;\n",
       "    }\n",
       "\n",
       "    .dataframe tbody tr th {\n",
       "        vertical-align: top;\n",
       "    }\n",
       "\n",
       "    .dataframe thead th {\n",
       "        text-align: right;\n",
       "    }\n",
       "</style>\n",
       "<table border=\"1\" class=\"dataframe\">\n",
       "  <thead>\n",
       "    <tr style=\"text-align: right;\">\n",
       "      <th></th>\n",
       "      <th>city</th>\n",
       "      <th>driver_count</th>\n",
       "      <th>type</th>\n",
       "    </tr>\n",
       "  </thead>\n",
       "  <tbody>\n",
       "    <tr>\n",
       "      <th>102</th>\n",
       "      <td>South Jennifer</td>\n",
       "      <td>7</td>\n",
       "      <td>Rural</td>\n",
       "    </tr>\n",
       "    <tr>\n",
       "      <th>103</th>\n",
       "      <td>West Heather</td>\n",
       "      <td>4</td>\n",
       "      <td>Rural</td>\n",
       "    </tr>\n",
       "    <tr>\n",
       "      <th>104</th>\n",
       "      <td>Newtonview</td>\n",
       "      <td>1</td>\n",
       "      <td>Rural</td>\n",
       "    </tr>\n",
       "    <tr>\n",
       "      <th>105</th>\n",
       "      <td>North Holly</td>\n",
       "      <td>8</td>\n",
       "      <td>Rural</td>\n",
       "    </tr>\n",
       "    <tr>\n",
       "      <th>106</th>\n",
       "      <td>Michaelberg</td>\n",
       "      <td>6</td>\n",
       "      <td>Rural</td>\n",
       "    </tr>\n",
       "  </tbody>\n",
       "</table>\n",
       "</div>"
      ],
      "text/plain": [
       "               city  driver_count   type\n",
       "102  South Jennifer             7  Rural\n",
       "103    West Heather             4  Rural\n",
       "104      Newtonview             1  Rural\n",
       "105     North Holly             8  Rural\n",
       "106     Michaelberg             6  Rural"
      ]
     },
     "execution_count": 6,
     "metadata": {},
     "output_type": "execute_result"
    }
   ],
   "source": [
    "# Slice the city_df by Rural city type\n",
    "city_rural = city_df.loc[city_df[\"type\"]==\"Rural\"]\n",
    "city_rural.sort_values(\"city\")\n",
    "# Driver_count per city by Rural type\n",
    "drivers_rural = city_rural[\"driver_count\"].tolist()\n",
    "drivers_rural = [each*5 for each in drivers_rural]\n",
    "drivers_rural\n",
    "city_rural.head()"
   ]
  },
  {
   "cell_type": "code",
   "execution_count": 7,
   "metadata": {},
   "outputs": [
    {
     "data": {
      "text/html": [
       "<div>\n",
       "<style scoped>\n",
       "    .dataframe tbody tr th:only-of-type {\n",
       "        vertical-align: middle;\n",
       "    }\n",
       "\n",
       "    .dataframe tbody tr th {\n",
       "        vertical-align: top;\n",
       "    }\n",
       "\n",
       "    .dataframe thead th {\n",
       "        text-align: right;\n",
       "    }\n",
       "</style>\n",
       "<table border=\"1\" class=\"dataframe\">\n",
       "  <thead>\n",
       "    <tr style=\"text-align: right;\">\n",
       "      <th></th>\n",
       "      <th>city</th>\n",
       "      <th>driver_count</th>\n",
       "      <th>type</th>\n",
       "    </tr>\n",
       "  </thead>\n",
       "  <tbody>\n",
       "    <tr>\n",
       "      <th>66</th>\n",
       "      <td>Port Shane</td>\n",
       "      <td>7</td>\n",
       "      <td>Suburban</td>\n",
       "    </tr>\n",
       "    <tr>\n",
       "      <th>67</th>\n",
       "      <td>Lake Ann</td>\n",
       "      <td>3</td>\n",
       "      <td>Suburban</td>\n",
       "    </tr>\n",
       "    <tr>\n",
       "      <th>68</th>\n",
       "      <td>Lake Scott</td>\n",
       "      <td>23</td>\n",
       "      <td>Suburban</td>\n",
       "    </tr>\n",
       "    <tr>\n",
       "      <th>69</th>\n",
       "      <td>Colemanland</td>\n",
       "      <td>23</td>\n",
       "      <td>Suburban</td>\n",
       "    </tr>\n",
       "    <tr>\n",
       "      <th>70</th>\n",
       "      <td>New Raymond</td>\n",
       "      <td>17</td>\n",
       "      <td>Suburban</td>\n",
       "    </tr>\n",
       "  </tbody>\n",
       "</table>\n",
       "</div>"
      ],
      "text/plain": [
       "           city  driver_count      type\n",
       "66   Port Shane             7  Suburban\n",
       "67     Lake Ann             3  Suburban\n",
       "68   Lake Scott            23  Suburban\n",
       "69  Colemanland            23  Suburban\n",
       "70  New Raymond            17  Suburban"
      ]
     },
     "execution_count": 7,
     "metadata": {},
     "output_type": "execute_result"
    }
   ],
   "source": [
    "# Slice the city_df by suburban city type\n",
    "city_sub = city_df.loc[city_df[\"type\"]==\"Suburban\"]\n",
    "city_sub.sort_values(\"city\")\n",
    "# Driver_count per city by suburban type\n",
    "drivers_sub= city_sub[\"driver_count\"].tolist()\n",
    "drivers_sub = [each*5 for each in drivers_sub]\n",
    "city_sub.head()"
   ]
  },
  {
   "cell_type": "code",
   "execution_count": 8,
   "metadata": {},
   "outputs": [
    {
     "data": {
      "text/plain": [
       "city\n",
       "Amandaburgh             24.64\n",
       "Barajasview             25.33\n",
       "Carriemouth             28.31\n",
       "Christopherfurt         24.50\n",
       "Deanville               25.84\n",
       "East Kaylahaven         23.76\n",
       "Erikaland               24.91\n",
       "Grahamburgh             25.22\n",
       "Huntermouth             28.99\n",
       "Hurleymouth             25.89\n",
       "Jerryton                25.65\n",
       "Johnton                 26.79\n",
       "Joneschester            22.29\n",
       "Justinberg              23.69\n",
       "Karenberg               26.34\n",
       "Karenside               27.45\n",
       "Lake Danielberg         24.84\n",
       "Lake Jonathanshire      23.43\n",
       "Lake Scottton           23.81\n",
       "Leahton                 21.24\n",
       "Liumouth                26.15\n",
       "Loganberg               25.29\n",
       "Martinezhaven           22.65\n",
       "New Jacobville          26.77\n",
       "New Kimberlyborough     22.59\n",
       "New Paulton             27.82\n",
       "New Paulville           21.68\n",
       "North Barbara           23.49\n",
       "North Jasmine           25.21\n",
       "North Jason             22.74\n",
       "                        ...  \n",
       "Port Johnbury           23.01\n",
       "Port Samanthamouth      25.64\n",
       "Raymondhaven            21.48\n",
       "Reynoldsfurt            21.92\n",
       "Richardfort             22.37\n",
       "Roberthaven             23.73\n",
       "Robertport              23.06\n",
       "Rodneyfort              28.62\n",
       "Rogerston               22.10\n",
       "Royland                 20.57\n",
       "Simpsonburgh            23.36\n",
       "South Evanton           26.73\n",
       "South Jack              22.97\n",
       "South Karenland         26.54\n",
       "South Latoya            20.09\n",
       "South Michelleport      24.45\n",
       "South Phillip           28.57\n",
       "Valentineton            24.64\n",
       "West Angela             25.99\n",
       "West Anthony            24.74\n",
       "West Christopherberg    24.42\n",
       "West Ericstad           22.35\n",
       "West Gabriel            20.35\n",
       "West Heidi              23.13\n",
       "West Josephberg         21.72\n",
       "West Patrickchester     28.23\n",
       "West Robert             25.12\n",
       "West Samuelburgh        21.77\n",
       "Williamsstad            24.36\n",
       "Williamsview            26.60\n",
       "Name: fare, Length: 66, dtype: float64"
      ]
     },
     "execution_count": 8,
     "metadata": {},
     "output_type": "execute_result"
    }
   ],
   "source": [
    "# Slice merged df by urban type\n",
    "urban_df = merge_df.loc[merge_df[\"type\"]==\"Urban\"]\n",
    "urban_df.sort_values(\"city\")\n",
    "# Groupby city\n",
    "group_urban = urban_df.groupby(\"city\")\n",
    "# Number of rides per city-Urban\n",
    "rides_city_urban = group_urban[\"type\"].count()\n",
    "rides_city_urban\n",
    "# Average fare per city-Urban\n",
    "avgfare_urban = round(group_urban[\"fare\"].mean(),2)\n",
    "avgfare_urban"
   ]
  },
  {
   "cell_type": "code",
   "execution_count": 9,
   "metadata": {},
   "outputs": [
    {
     "data": {
      "text/plain": [
       "city\n",
       "Bradshawfurt         40.06\n",
       "Garzaport            24.12\n",
       "Harringtonfort       33.47\n",
       "Jessicaport          36.01\n",
       "Lake Jamie           34.36\n",
       "Lake Latoyabury      26.06\n",
       "Michaelberg          35.00\n",
       "New Ryantown         43.28\n",
       "Newtonview           36.75\n",
       "North Holly          29.13\n",
       "North Jaime          30.80\n",
       "Penaborough          35.25\n",
       "Randallchester       29.74\n",
       "South Jennifer       35.26\n",
       "South Marychester    41.87\n",
       "South Saramouth      36.16\n",
       "Taylorhaven          42.26\n",
       "West Heather         33.89\n",
       "Name: fare, dtype: float64"
      ]
     },
     "execution_count": 9,
     "metadata": {},
     "output_type": "execute_result"
    }
   ],
   "source": [
    "# Slice merged df by rural type\n",
    "rural_df = merge_df.loc[merge_df[\"type\"]==\"Rural\"]\n",
    "rural_df.sort_values(\"city\")\n",
    "# Groupby city\n",
    "group_rural = rural_df.groupby(\"city\")\n",
    "# Number of rides per city-Rural\n",
    "rides_city_rural = group_rural[\"type\"].count()\n",
    "rides_city_rural\n",
    "# Average fare per city-Rural\n",
    "avgfare_rural = round(group_rural[\"fare\"].mean(),2)\n",
    "avgfare_rural"
   ]
  },
  {
   "cell_type": "code",
   "execution_count": 10,
   "metadata": {},
   "outputs": [
    {
     "data": {
      "text/plain": [
       "city\n",
       "Barronchester         36.42\n",
       "Bethanyland           32.96\n",
       "Brandonfort           35.44\n",
       "Colemanland           30.89\n",
       "Davidfurt             32.00\n",
       "East Aaronbury        25.66\n",
       "East Danielview       31.56\n",
       "East Kentstad         29.82\n",
       "East Marymouth        30.84\n",
       "Grayville             27.76\n",
       "Josephside            32.86\n",
       "Lake Ann              30.89\n",
       "Lake Omar             28.07\n",
       "Lake Robertside       31.26\n",
       "Lake Scott            31.89\n",
       "Lewishaven            25.24\n",
       "Lewisland             34.61\n",
       "Mezachester           30.76\n",
       "Myersshire            30.20\n",
       "New Olivia            34.05\n",
       "New Raymond           27.96\n",
       "New Shannonberg       28.38\n",
       "Nicolechester         30.91\n",
       "North Jeffrey         29.24\n",
       "North Richardhaven    24.70\n",
       "North Timothy         31.26\n",
       "Port Shane            31.08\n",
       "Rodriguezview         30.75\n",
       "Sotoville             31.98\n",
       "South Brenda          33.96\n",
       "South Teresa          31.22\n",
       "Veronicaberg          32.83\n",
       "Victoriaport          27.78\n",
       "West Hannah           29.55\n",
       "West Kimmouth         29.87\n",
       "Williamsonville       31.88\n",
       "Name: fare, dtype: float64"
      ]
     },
     "execution_count": 10,
     "metadata": {},
     "output_type": "execute_result"
    }
   ],
   "source": [
    "# Slice merged df by Suburban type\n",
    "sub_df = merge_df.loc[merge_df[\"type\"]==\"Suburban\"]\n",
    "sub_df.sort_values(\"city\")\n",
    "# Groupby city\n",
    "group_sub = sub_df.groupby(\"city\")\n",
    "# Number of rides per city-Suburban\n",
    "rides_city_sub = group_sub[\"type\"].count()\n",
    "rides_city_sub\n",
    "# Average fare per city-Suburban\n",
    "avgfare_sub = round(group_sub[\"fare\"].mean(),2)\n",
    "avgfare_sub"
   ]
  },
  {
   "cell_type": "markdown",
   "metadata": {},
   "source": [
    "## Bubble Plot of Ride Sharing Data"
   ]
  },
  {
   "cell_type": "code",
   "execution_count": 11,
   "metadata": {},
   "outputs": [
    {
     "data": {
      "image/png": "[encoded data removed]",
      "text/plain": [
       "<Figure size 720x576 with 1 Axes>"
      ]
     },
     "metadata": {
      "needs_background": "light"
     },
     "output_type": "display_data"
    }
   ],
   "source": [
    "# Create scatterplots for each city type dataframes\n",
    "# Scatter plot for urban\n",
    "fig = plt.figure(figsize=(10,8))\n",
    "plt.grid(True)\n",
    "sct_urban = plt.scatter(x=rides_city_urban,y=avgfare_urban,marker=\"o\",\n",
    "                        color=\"lightcoral\",s=10*drivers_urban,edgecolor='black', linewidths=1,alpha=0.8,label=\"Urban\")\n",
    "# Scatter plot for rural\n",
    "sct_rural = plt.scatter(x=rides_city_rural,y=avgfare_rural,marker=\"o\",\n",
    "                        color=\"gold\",s=10*drivers_rural,edgecolor='black',linewidths=1,alpha=0.8,label=\"Rural\")\n",
    "# Scatter plot for Suburban\n",
    "sct_sub = plt.scatter(x=rides_city_sub,y=avgfare_sub,marker=\"o\",\n",
    "                      color=\"lightskyblue\",s=10*drivers_sub,edgecolor='black',linewidths=1,alpha=0.8,label=\"Suburban\")\n",
    "\n",
    "# Set the legends then set equal sizes for legend pts\n",
    "lgnd = plt.legend(handles=[sct_urban,sct_rural,sct_sub],loc=\"best\")\n",
    "lgnd.legendHandles[0]._sizes = [70]\n",
    "lgnd.legendHandles[1]._sizes = [70]\n",
    "lgnd.legendHandles[2]._sizes = [70]\n",
    "\n",
    "# Set texts and positions on the chart\n",
    "plt.text(36,37,'Note:\\nCircle size correlates with driver count per city.',fontsize=10)\n",
    "\n",
    "\n",
    "# Set x and y axis\n",
    "plt.xlim(0,35)\n",
    "plt.ylim(0,50)\n",
    "\n",
    "# axis labels and title\n",
    "plt.title(\"Pyber Ride Sharing Data 2018\")\n",
    "plt.xlabel(\"Total Number Of Rides Per City\")\n",
    "plt.ylabel(\"Average Fare($)\")\n",
    "plt.savefig(\"mypyber.png\",bbox_inches='tight')\n",
    "\n",
    "plt.show()\n"
   ]
  },
  {
   "cell_type": "markdown",
   "metadata": {},
   "source": [
    "## Total Fares by City Type"
   ]
  },
  {
   "cell_type": "code",
   "execution_count": 12,
   "metadata": {},
   "outputs": [
    {
     "data": {
      "text/plain": [
       "[6.811492974983412, 30.463872062732218, 62.72463496228453]"
      ]
     },
     "execution_count": 12,
     "metadata": {},
     "output_type": "execute_result"
    }
   ],
   "source": [
    "# Pie charts\n",
    "# Total fares for all the city types combined\n",
    "total_fare = round(ride_df[\"fare\"].sum(),2)\n",
    "# Total fares for Urban\n",
    "grouped_type = merge_df.groupby(\"type\")\n",
    "total_fare_type = grouped_type[\"fare\"].sum()\n",
    "# % total fares for each city type\n",
    "percent_fare_type = [(x/total_fare)*100 for x in total_fare_type]\n",
    "percent_fare_type"
   ]
  },
  {
   "cell_type": "code",
   "execution_count": 13,
   "metadata": {},
   "outputs": [
    {
     "data": {
      "text/plain": [
       "Text(0.5, 1.0, '% Of Total Fares Per City Type')"
      ]
     },
     "execution_count": 13,
     "metadata": {},
     "output_type": "execute_result"
    },
    {
     "data": {
      "image/png": "[encoded data removed]",
      "text/plain": [
       "<Figure size 432x288 with 1 Axes>"
      ]
     },
     "metadata": {},
     "output_type": "display_data"
    }
   ],
   "source": [
    "# Labels for the sections of our pie chart\n",
    "labels = [\"Rural\", \"Suburban\", \"Urban\"]\n",
    "\n",
    "# Values per section of the pie chart\n",
    "percent_fare_type\n",
    "\n",
    "# Colors per section of the pie chart\n",
    "colors = [\"gold\", \"lightblue\", \"Coral\"]\n",
    "\n",
    "# Set matplotlib to seperate the \"Python\" section from the others\n",
    "explode = [0, 0, 0.1]\n",
    "# Create the pie chart and automatically set to find the percentages each part of the pie chart\n",
    "plt.pie(percent_fare_type, explode=explode, labels=labels, colors=colors,\n",
    "        autopct=\"%1.1f%%\", shadow=True, startangle=169)\n",
    "plt.title(\"% Of Total Fares Per City Type\")"
   ]
  },
  {
   "cell_type": "markdown",
   "metadata": {},
   "source": [
    "## Total Rides by City Type"
   ]
  },
  {
   "cell_type": "code",
   "execution_count": 14,
   "metadata": {},
   "outputs": [
    {
     "data": {
      "text/plain": [
       "[5.263157894736842, 26.31578947368421, 68.42105263157895]"
      ]
     },
     "execution_count": 14,
     "metadata": {},
     "output_type": "execute_result"
    }
   ],
   "source": [
    "# % of total rides by city type\n",
    "# Total rides for all cities combined\n",
    "total_rides = ride_df[\"ride_id\"].count()\n",
    "\n",
    "# Groupby city type\n",
    "total_rides_type = grouped_type[\"ride_id\"].count()\n",
    "total_rides_type\n",
    "\n",
    "# % total rides per city type\n",
    "percent_rides_type = [(x/total_rides)*100 for x in total_rides_type]\n",
    "percent_rides_type"
   ]
  },
  {
   "cell_type": "code",
   "execution_count": 15,
   "metadata": {},
   "outputs": [
    {
     "data": {
      "text/plain": [
       "(-1.1052772830989732,\n",
       " 1.1863127973827317,\n",
       " -1.1127278884131324,\n",
       " 1.191025342591955)"
      ]
     },
     "execution_count": 15,
     "metadata": {},
     "output_type": "execute_result"
    },
    {
     "data": {
      "image/png": "[encoded data removed]",
      "text/plain": [
       "<Figure size 432x288 with 1 Axes>"
      ]
     },
     "metadata": {},
     "output_type": "display_data"
    }
   ],
   "source": [
    "# Labels for the sections of our pie chart\n",
    "labels = [\"Urban\", \"Suburban\", \"Rural\"]\n",
    "\n",
    "# Value per section of the pie chart\n",
    "percent_rides_type\n",
    "\n",
    "# Colors per section of the pie chart\n",
    "colors = [\"lightcoral\", \"gold\", \"yellowgreen\"]\n",
    "\n",
    "# Set matplotlib to seperate the \"Python\" section from the others\n",
    "explode = [0, 0, 0.1]\n",
    "# Create the pie chart and automatically set to find the percentages of each part of the pie chart\n",
    "plt.pie(percent_rides_type, explode=explode, labels=labels, colors=colors,\n",
    "        autopct=\"%1.1f%%\", shadow=True, startangle=169)\n",
    "plt.title(\"% Of Total Rides Per City Type\")\n",
    "# Set the matplotlib to show a pie chart with equal axes\n",
    "plt.axis(\"equal\")"
   ]
  },
  {
   "cell_type": "markdown",
   "metadata": {},
   "source": [
    "## Total Drivers by City Type"
   ]
  },
  {
   "cell_type": "code",
   "execution_count": 16,
   "metadata": {},
   "outputs": [
    {
     "data": {
      "text/plain": [
       "[2.6236125126135215, 16.481668348469558, 80.89471913891691]"
      ]
     },
     "execution_count": 16,
     "metadata": {},
     "output_type": "execute_result"
    }
   ],
   "source": [
    "# % of total drivers per City Type\n",
    "# Total drivers for all cities combined\n",
    "total_drivers = city_df[\"driver_count\"].sum()\n",
    "\n",
    "# Total drivers for urban\n",
    "# Groupby city type and city\n",
    "grouped_city_type = city_df.groupby(\"type\")\n",
    "total_drivers_type = grouped_city_type[\"driver_count\"].sum()\n",
    "\n",
    "# % Total drivers per city type\n",
    "percent_drivers_type = [(x/total_drivers)*100 for x in total_drivers_type]\n",
    "percent_drivers_type"
   ]
  },
  {
   "cell_type": "code",
   "execution_count": 17,
   "metadata": {
    "scrolled": true
   },
   "outputs": [
    {
     "data": {
      "text/plain": [
       "(-1.1107992489998582, 1.231274009892694, -1.054002478011723, 1.157753047004217)"
      ]
     },
     "execution_count": 17,
     "metadata": {},
     "output_type": "execute_result"
    },
    {
     "data": {
      "image/png": "[encoded data removed]",
      "text/plain": [
       "<Figure size 432x288 with 1 Axes>"
      ]
     },
     "metadata": {},
     "output_type": "display_data"
    }
   ],
   "source": [
    "# Labels for the sections of our pie chart\n",
    "labels = [\"Urban\", \"Suburban\", \"Rural\"]\n",
    "\n",
    "# Values per section of the pie chart\n",
    "percent_drivers_type\n",
    "\n",
    "# Colors per section of the pie chart\n",
    "colors = [\"gold\", \"lightskyblue\", \"coral\"]\n",
    "\n",
    "# Set matplotlib to seperate the \"Python\" section from the others\n",
    "explode = [0, 0, 0.13]\n",
    "# Create the pie chart and automatically set to find the percentages of each part of the pie chart\n",
    "plt.pie(percent_drivers_type, explode=explode, labels=labels, colors=colors,\n",
    "        autopct=\"%1.1f%%\", shadow=True, startangle=169)\n",
    "plt.title(\"% Of Total Drivers Per City Type\")\n",
    "# Set matplotlib to show a pie chart with equal axes\n",
    "plt.axis(\"equal\")"
   ]
  }
 ],
 "metadata": {
  "anaconda-cloud": {},
  "kernelspec": {
   "display_name": "Python 3",
   "language": "python",
   "name": "python3"
  },
  "language_info": {
   "codemirror_mode": {
    "name": "ipython",
    "version": 3
   },
   "file_extension": ".py",
   "mimetype": "text/x-python",
   "name": "python",
   "nbconvert_exporter": "python",
   "pygments_lexer": "ipython3",
   "version": "3.7.1"
  }
 },
 "nbformat": 4,
 "nbformat_minor": 2
}
